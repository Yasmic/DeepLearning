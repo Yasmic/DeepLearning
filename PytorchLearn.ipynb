{
  "nbformat": 4,
  "nbformat_minor": 0,
  "metadata": {
    "colab": {
      "name": "PytorchLearn.ipynb",
      "provenance": [],
      "authorship_tag": "ABX9TyPdpiKf1xwZxQgRa588ljIB",
      "include_colab_link": true
    },
    "kernelspec": {
      "name": "python3",
      "display_name": "Python 3"
    }
  },
  "cells": [
    {
      "cell_type": "markdown",
      "metadata": {
        "id": "view-in-github",
        "colab_type": "text"
      },
      "source": [
        "<a href=\"https://colab.research.google.com/github/Yasmic/DeepLearning/blob/main/PytorchLearn.ipynb\" target=\"_parent\"><img src=\"https://colab.research.google.com/assets/colab-badge.svg\" alt=\"Open In Colab\"/></a>"
      ]
    },
    {
      "cell_type": "code",
      "metadata": {
        "id": "vbSy1w6pcp6k"
      },
      "source": [
        "import torch"
      ],
      "execution_count": null,
      "outputs": []
    },
    {
      "cell_type": "code",
      "metadata": {
        "id": "LJAJC5fTeBvw"
      },
      "source": [
        ""
      ],
      "execution_count": null,
      "outputs": []
    },
    {
      "cell_type": "code",
      "metadata": {
        "id": "RlclZqdUc4lA"
      },
      "source": [
        "x=torch.randn(2,2,requires_grad=True)"
      ],
      "execution_count": null,
      "outputs": []
    },
    {
      "cell_type": "code",
      "metadata": {
        "id": "Fw1224XldMIF"
      },
      "source": [
        "y=torch.mul(x,x)"
      ],
      "execution_count": null,
      "outputs": []
    },
    {
      "cell_type": "code",
      "metadata": {
        "colab": {
          "base_uri": "https://localhost:8080/"
        },
        "id": "rncrojlGdSk9",
        "outputId": "00eb5a84-22bc-403c-9451-b67b10cb7e27"
      },
      "source": [
        "y"
      ],
      "execution_count": null,
      "outputs": [
        {
          "output_type": "execute_result",
          "data": {
            "text/plain": [
              "tensor([[0.2708, 0.0272],\n",
              "        [0.8308, 0.9373]], grad_fn=<MulBackward0>)"
            ]
          },
          "metadata": {
            "tags": []
          },
          "execution_count": 14
        }
      ]
    },
    {
      "cell_type": "code",
      "metadata": {
        "id": "_9A28eU0dVaY"
      },
      "source": [
        "v=torch.randn(2,2)\n",
        "y.backward(v)\n"
      ],
      "execution_count": null,
      "outputs": []
    },
    {
      "cell_type": "code",
      "metadata": {
        "colab": {
          "base_uri": "https://localhost:8080/"
        },
        "id": "y3jiiULbeVAu",
        "outputId": "b0cb95ef-e968-489b-ead6-0f6b9093b162"
      },
      "source": [
        "x"
      ],
      "execution_count": null,
      "outputs": [
        {
          "output_type": "execute_result",
          "data": {
            "text/plain": [
              "tensor([[-0.5204, -0.1651],\n",
              "        [ 0.9115, -0.9681]], requires_grad=True)"
            ]
          },
          "metadata": {
            "tags": []
          },
          "execution_count": 16
        }
      ]
    },
    {
      "cell_type": "code",
      "metadata": {
        "colab": {
          "base_uri": "https://localhost:8080/"
        },
        "id": "G_FKweYMdZ23",
        "outputId": "493675d6-f3a1-4e99-aa34-21c1a6c7b194"
      },
      "source": [
        "y"
      ],
      "execution_count": null,
      "outputs": [
        {
          "output_type": "execute_result",
          "data": {
            "text/plain": [
              "tensor([[0.2708, 0.0272],\n",
              "        [0.8308, 0.9373]], grad_fn=<MulBackward0>)"
            ]
          },
          "metadata": {
            "tags": []
          },
          "execution_count": 17
        }
      ]
    },
    {
      "cell_type": "code",
      "metadata": {
        "colab": {
          "base_uri": "https://localhost:8080/"
        },
        "id": "N-yG5Bo4dv8p",
        "outputId": "ae5b2087-ad39-4d1c-c908-e6053dc0e4c5"
      },
      "source": [
        "v"
      ],
      "execution_count": null,
      "outputs": [
        {
          "output_type": "execute_result",
          "data": {
            "text/plain": [
              "tensor([[-0.2975, -0.6416],\n",
              "        [ 0.2258,  0.8465]])"
            ]
          },
          "metadata": {
            "tags": []
          },
          "execution_count": 18
        }
      ]
    },
    {
      "cell_type": "code",
      "metadata": {
        "id": "ci9awUzofGVZ",
        "colab": {
          "base_uri": "https://localhost:8080/"
        },
        "outputId": "4eacc178-0d54-4eb1-93a0-0892e51262e0"
      },
      "source": [
        "x.grad"
      ],
      "execution_count": null,
      "outputs": [
        {
          "output_type": "execute_result",
          "data": {
            "text/plain": [
              "tensor([[ 0.0121, -0.4298],\n",
              "        [ 0.6376, -0.7926]])"
            ]
          },
          "metadata": {
            "tags": []
          },
          "execution_count": 27
        }
      ]
    },
    {
      "cell_type": "code",
      "metadata": {
        "colab": {
          "base_uri": "https://localhost:8080/"
        },
        "id": "1Cjo4iOcfTez",
        "outputId": "8bc45af4-f1a3-4f5b-c7fe-bd01c6da240d"
      },
      "source": [
        "x"
      ],
      "execution_count": null,
      "outputs": [
        {
          "output_type": "execute_result",
          "data": {
            "text/plain": [
              "tensor([[-0.5204, -0.1651],\n",
              "        [ 0.9115, -0.9681]], requires_grad=True)"
            ]
          },
          "metadata": {
            "tags": []
          },
          "execution_count": 28
        }
      ]
    },
    {
      "cell_type": "code",
      "metadata": {
        "id": "dy0mSpkCfUcw",
        "colab": {
          "base_uri": "https://localhost:8080/"
        },
        "outputId": "9e393027-47de-4c87-c286-034171984c07"
      },
      "source": [
        "import torch\n",
        "\n",
        "X=torch.tensor([1,5,6,8],dtype=torch.float32)\n",
        "W=torch.tensor([1,1,1,1],dtype=torch.float32,requires_grad=True)\n",
        "Y=torch.tensor([1,2,3,4],dtype=torch.float32)\n",
        "lr=0.01\n",
        "epochs=10\n",
        "def forward(X):\n",
        "  return W*X\n",
        "  #def loss (Y,Yhat,X):\n",
        "   # return ((Y-Yhat)**2).mean()\n",
        "\n",
        "for epoch in range(epochs):\n",
        "  Yhat=forward(X)\n",
        "  l=((Y-Yhat)**2).mean()\n",
        "  l.backward()\n",
        "  with torch.no_grad():\n",
        "    W-=lr*W.grad\n",
        "  W.grad.zero_()\n",
        "  print(W)\n",
        "\n",
        "\n"
      ],
      "execution_count": null,
      "outputs": [
        {
          "output_type": "stream",
          "text": [
            "tensor([1.0000, 0.9250, 0.9100, 0.8400], requires_grad=True)\n",
            "tensor([1.0000, 0.8594, 0.8362, 0.7312], requires_grad=True)\n",
            "tensor([1.0000, 0.8020, 0.7757, 0.6572], requires_grad=True)\n",
            "tensor([1.0000, 0.7517, 0.7261, 0.6069], requires_grad=True)\n",
            "tensor([1.0000, 0.7077, 0.6854, 0.5727], requires_grad=True)\n",
            "tensor([1.0000, 0.6693, 0.6520, 0.5494], requires_grad=True)\n",
            "tensor([1.0000, 0.6356, 0.6246, 0.5336], requires_grad=True)\n",
            "tensor([1.0000, 0.6062, 0.6022, 0.5229], requires_grad=True)\n",
            "tensor([1.0000, 0.5804, 0.5838, 0.5155], requires_grad=True)\n",
            "tensor([1.0000, 0.5578, 0.5687, 0.5106], requires_grad=True)\n"
          ],
          "name": "stdout"
        }
      ]
    },
    {
      "cell_type": "code",
      "metadata": {
        "colab": {
          "base_uri": "https://localhost:8080/"
        },
        "id": "Qb5xOQyAX6o2",
        "outputId": "3c0da32b-36ad-449b-ec72-78479dfd456f"
      },
      "source": [
        "weight=torch.ones(4,dtype=torch.float32,requires_grad=True)\n",
        "#for epoch in range(epochs):\n",
        " # model_output\n",
        "epochs=4\n",
        "for epoch in range(epochs):\n",
        "  print(weight)\n",
        "  model_output=(weight*4).sum()\n",
        "  print(model_output)\n",
        "  model_output.backward()\n",
        "  print(weight.grad)\n",
        "  weight.grad.zero_()"
      ],
      "execution_count": null,
      "outputs": [
        {
          "output_type": "stream",
          "text": [
            "tensor([1., 1., 1., 1.], requires_grad=True)\n",
            "tensor(16., grad_fn=<SumBackward0>)\n",
            "tensor([4., 4., 4., 4.])\n",
            "tensor([1., 1., 1., 1.], requires_grad=True)\n",
            "tensor(16., grad_fn=<SumBackward0>)\n",
            "tensor([4., 4., 4., 4.])\n",
            "tensor([1., 1., 1., 1.], requires_grad=True)\n",
            "tensor(16., grad_fn=<SumBackward0>)\n",
            "tensor([4., 4., 4., 4.])\n",
            "tensor([1., 1., 1., 1.], requires_grad=True)\n",
            "tensor(16., grad_fn=<SumBackward0>)\n",
            "tensor([4., 4., 4., 4.])\n"
          ],
          "name": "stdout"
        }
      ]
    },
    {
      "cell_type": "code",
      "metadata": {
        "colab": {
          "base_uri": "https://localhost:8080/"
        },
        "id": "Hlhg5I6mjqxl",
        "outputId": "b29146b5-65cd-4ea8-9360-6ddf3b2ef8bb"
      },
      "source": [
        "A=torch.tensor([1,1,1,1],dtype=torch.float32,requires_grad=True)\n",
        "\n",
        "print(A.requires_grad_(False))\n",
        "B=torch.tensor([1,1,1,1],dtype=torch.float32,requires_grad=True)\n",
        "print(B.detach_())\n",
        "\n"
      ],
      "execution_count": null,
      "outputs": [
        {
          "output_type": "stream",
          "text": [
            "tensor([1., 1., 1., 1.])\n",
            "tensor([1., 1., 1., 1.])\n"
          ],
          "name": "stdout"
        }
      ]
    },
    {
      "cell_type": "code",
      "metadata": {
        "id": "J5pJvD1Rl3Ha"
      },
      "source": [
        "X=torch.zeros(200,1,dtype=torch.float32)\n",
        "Y=torch.zeros(200,1,dtype=torch.float32)\n",
        "\n",
        "for i in range(200):\n",
        "  X[i,0]=i\n",
        "  Y[i,0]=i*i"
      ],
      "execution_count": null,
      "outputs": []
    },
    {
      "cell_type": "code",
      "metadata": {
        "colab": {
          "base_uri": "https://localhost:8080/"
        },
        "id": "gy3TTjp2ms7D",
        "outputId": "22e14d14-9ac0-47bc-ed60-8b79f8cb36f5"
      },
      "source": [
        "Y[4,0]"
      ],
      "execution_count": null,
      "outputs": [
        {
          "output_type": "execute_result",
          "data": {
            "text/plain": [
              "tensor(16.)"
            ]
          },
          "metadata": {
            "tags": []
          },
          "execution_count": 18
        }
      ]
    },
    {
      "cell_type": "code",
      "metadata": {
        "id": "HLiqGLQtmHzL",
        "colab": {
          "base_uri": "https://localhost:8080/"
        },
        "outputId": "d299e72c-d924-428b-a930-839e565a9113"
      },
      "source": [
        "# 1) Design model (input, output, forward pass with different layers)\n",
        "# 2) Construct loss and optimizer\n",
        "# 3) Training loop\n",
        "#       - Forward = compute prediction and loss\n",
        "#       - Backward = compute gradients\n",
        "#       - Update weights\n",
        "\n",
        "import torch\n",
        "import torch.nn as nn\n",
        "\n",
        "# Linear regression\n",
        "# f = w * x \n",
        "\n",
        "# here : f = 2 * x\n",
        "\n",
        "# 0) Training samples, watch the shape!\n",
        "\n",
        "#X = torch.tensor([[1], [2], [3], [4],[5],[10],[12],[6],[7]], dtype=torch.float32)\n",
        "#Y = torch.tensor([[2], [4], [9], [16],[25],[100],[144],[36],[49]], dtype=torch.float32)\n",
        "\n",
        "n_samples, n_features = X.shape\n",
        "print(f'#samples: {n_samples}, #features: {n_features}')\n",
        "# 0) create a test sample\n",
        "X_test = torch.tensor([13], dtype=torch.float32)\n",
        "\n",
        "# 1) Design Model, the model has to implement the forward pass!\n",
        "# Here we can use a built-in model from PyTorch\n",
        "input_size = n_features\n",
        "hidden_size1=32\n",
        "hidden_size2=42\n",
        "output_size = n_features\n",
        "\n",
        "# we can call this model with samples X\n",
        "#model = nn.Linear(input_size, output_size)\n",
        "\n",
        "\n",
        "class LinearRegression(nn.Module):\n",
        "    def __init__(self, input_dim, output_dim):\n",
        "        super(LinearRegression, self).__init__()\n",
        "        # define diferent layers\n",
        "        self.lin = nn.Linear(input_dim, hidden_size1)\n",
        "        self.lin1 = nn.Linear(hidden_size1, hidden_size2)\n",
        "        self.lin2 = nn.Linear(hidden_size2, output_size)\n",
        "\n",
        "    def forward(self, x):\n",
        "         x= self.lin(x)\n",
        "         x = nn.functional.relu(x)\n",
        "         x=self.lin1(x)\n",
        "         x = nn.functional.relu(x)\n",
        "         x=self.lin2(x)\n",
        "         x = nn.functional.relu(x)\n",
        "         return x \n",
        "\n",
        "model = LinearRegression(input_size, output_size)\n",
        "\n",
        "\n",
        "print(f'Prediction before training: f(13) = {model(X_test).item():.3f}')\n",
        "\n",
        "# 2) Define loss and optimizer\n",
        "learning_rate = 0.0001\n",
        "n_iters = 100\n",
        "\n",
        "loss = nn.MSELoss()\n",
        "optimizer = torch.optim.SGD(model.parameters(), lr=learning_rate)\n",
        "\n",
        "# 3) Training loop\n",
        "for epoch in range(n_iters):\n",
        "    # predict = forward pass with our model\n",
        "    y_predicted = model(X)\n",
        "\n",
        "    # loss\n",
        "    l = loss(Y, y_predicted)\n",
        "\n",
        "    # calculate gradients = backward pass\n",
        "    l.backward()\n",
        "\n",
        "    # update weights\n",
        "    optimizer.step()\n",
        "\n",
        "    # zero the gradients after updating\n",
        "    optimizer.zero_grad()\n",
        "\n",
        "    if epoch % 10 == 0:\n",
        "       # [w, b] = model.parameters() # unpack parameters\n",
        "        print('epoch ', epoch+1, ': w = ', ' loss = ', l)\n",
        "\n",
        "print(f'Prediction after training: f(13) = {model(X_test).item():.3f}')"
      ],
      "execution_count": null,
      "outputs": [
        {
          "output_type": "stream",
          "text": [
            "#samples: 200, #features: 1\n",
            "Prediction before training: f(13) = 0.801\n",
            "epoch  1 : w =   loss =  tensor(3.1576e+08, grad_fn=<MseLossBackward>)\n",
            "epoch  11 : w =   loss =  tensor(3.1601e+08, grad_fn=<MseLossBackward>)\n",
            "epoch  21 : w =   loss =  tensor(3.1601e+08, grad_fn=<MseLossBackward>)\n",
            "epoch  31 : w =   loss =  tensor(3.1601e+08, grad_fn=<MseLossBackward>)\n",
            "epoch  41 : w =   loss =  tensor(3.1601e+08, grad_fn=<MseLossBackward>)\n",
            "epoch  51 : w =   loss =  tensor(3.1601e+08, grad_fn=<MseLossBackward>)\n",
            "epoch  61 : w =   loss =  tensor(3.1601e+08, grad_fn=<MseLossBackward>)\n",
            "epoch  71 : w =   loss =  tensor(3.1601e+08, grad_fn=<MseLossBackward>)\n",
            "epoch  81 : w =   loss =  tensor(3.1601e+08, grad_fn=<MseLossBackward>)\n",
            "epoch  91 : w =   loss =  tensor(3.1601e+08, grad_fn=<MseLossBackward>)\n",
            "Prediction after training: f(13) = 0.000\n"
          ],
          "name": "stdout"
        }
      ]
    },
    {
      "cell_type": "code",
      "metadata": {
        "colab": {
          "base_uri": "https://localhost:8080/"
        },
        "id": "F8XiNDWafPWP",
        "outputId": "2f8d7da5-7cd8-426b-d437-f284ef3d0abb"
      },
      "source": [
        "X_test = torch.tensor([9], dtype=torch.float32)\n",
        "print(f'Prediction after training: f(9) = {model(X_test).item():.3f}')"
      ],
      "execution_count": null,
      "outputs": [
        {
          "output_type": "stream",
          "text": [
            "Prediction after training: f(9) = 83.967\n"
          ],
          "name": "stdout"
        }
      ]
    },
    {
      "cell_type": "code",
      "metadata": {
        "colab": {
          "base_uri": "https://localhost:8080/"
        },
        "id": "PxCZg1CogHqt",
        "outputId": "2387d6ce-c5e9-4f0c-8cf3-d4bc73140c89"
      },
      "source": [
        "X.shape"
      ],
      "execution_count": null,
      "outputs": [
        {
          "output_type": "execute_result",
          "data": {
            "text/plain": [
              "torch.Size([9, 1])"
            ]
          },
          "metadata": {
            "tags": []
          },
          "execution_count": 3
        }
      ]
    },
    {
      "cell_type": "code",
      "metadata": {
        "id": "nyfnJ_9Tllbn"
      },
      "source": [
        "import torch\n",
        "import torch.nn as nn\n",
        "from sklearn import datasets\n",
        "import numpy as np\n",
        "import matplotlib.pyplot as plt\n"
      ],
      "execution_count": null,
      "outputs": []
    },
    {
      "cell_type": "code",
      "metadata": {
        "colab": {
          "base_uri": "https://localhost:8080/"
        },
        "id": "17MIWSVV6q--",
        "outputId": "3c22228c-669b-4c13-da25-5a8762f9c761"
      },
      "source": [
        "x_numpy,y_numpy=datasets.make_regression(n_samples=100,n_features=1,noise=20,random_state=1)\n",
        "X=torch.from_numpy(x_numpy.astype(np.float32))\n",
        "y=torch.from_numpy(y_numpy.astype(np.float32))\n",
        "y=y.view(y.shape[0],1)\n",
        "n_samples,n_features=X.shape\n",
        "input_size=n_features\n",
        "output_size=1\n",
        "learning_rate=0.01\n",
        "model=nn.Linear(input_size,output_size)\n",
        "criterion=nn.MSELoss()\n",
        "optimizer=torch.optim.SGD(model.parameters(),lr=learning_rate)\n",
        "\n",
        "num_epochs=100\n",
        "\n",
        "for epoch in range(num_epochs):\n",
        "  y_predicted=model(X)\n",
        "  loss=criterion(y_predicted,y)\n",
        "  loss.backward()\n",
        "  optimizer.step()\n",
        "  optimizer.zero_grad()\n",
        "  if(epoch+1)%10==0:\n",
        "    print(f'epoch:{epoch+1},loss={loss.item():.4f}')"
      ],
      "execution_count": null,
      "outputs": [
        {
          "output_type": "stream",
          "text": [
            "torch.Size([100, 1])\n",
            "epoch:10,loss=4447.9360\n",
            "epoch:20,loss=3317.5840\n",
            "epoch:30,loss=2499.6135\n",
            "epoch:40,loss=1907.0691\n",
            "epoch:50,loss=1477.4044\n",
            "epoch:60,loss=1165.5643\n",
            "epoch:70,loss=939.0497\n",
            "epoch:80,loss=774.3869\n",
            "epoch:90,loss=654.6020\n",
            "epoch:100,loss=567.4069\n"
          ],
          "name": "stdout"
        }
      ]
    },
    {
      "cell_type": "code",
      "metadata": {
        "colab": {
          "base_uri": "https://localhost:8080/",
          "height": 265
        },
        "id": "fM41ggmu7dLU",
        "outputId": "79b5c23f-7c1e-4f4d-cead-3f02aae70f44"
      },
      "source": [
        "predicted=model(X).detach().numpy()\n",
        "plt.plot(x_numpy,y_numpy,'ro')\n",
        "plt.plot(x_numpy,predicted,'b')\n",
        "plt.show()"
      ],
      "execution_count": null,
      "outputs": [
        {
          "output_type": "display_data",
          "data": {
            "image/png": "[encoded data removed]",
            "text/plain": [
              "<Figure size 432x288 with 1 Axes>"
            ]
          },
          "metadata": {
            "tags": [],
            "needs_background": "light"
          }
        }
      ]
    },
    {
      "cell_type": "code",
      "metadata": {
        "id": "9bWZnaF3eEh6",
        "colab": {
          "base_uri": "https://localhost:8080/"
        },
        "outputId": "f57ced32-227e-457f-b345-20b0c9806378"
      },
      "source": [
        "import numpy as np\n",
        "v=np.random.randint(0,4,(4,8))\n",
        "v"
      ],
      "execution_count": null,
      "outputs": [
        {
          "output_type": "execute_result",
          "data": {
            "text/plain": [
              "array([[1, 1, 2, 0, 0, 2, 3, 0],\n",
              "       [3, 3, 3, 2, 0, 1, 0, 2],\n",
              "       [3, 3, 1, 1, 1, 2, 2, 0],\n",
              "       [2, 2, 3, 2, 2, 3, 1, 3]])"
            ]
          },
          "metadata": {
            "tags": []
          },
          "execution_count": 5
        }
      ]
    },
    {
      "cell_type": "code",
      "metadata": {
        "colab": {
          "base_uri": "https://localhost:8080/"
        },
        "id": "sWMfjo8A9Htd",
        "outputId": "efb2f415-dd90-4763-f369-8d554b397746"
      },
      "source": [
        "v1=v.T\n",
        "v1"
      ],
      "execution_count": null,
      "outputs": [
        {
          "output_type": "execute_result",
          "data": {
            "text/plain": [
              "array([[1, 3, 3, 2],\n",
              "       [1, 3, 3, 2],\n",
              "       [2, 3, 1, 3],\n",
              "       [0, 2, 1, 2],\n",
              "       [0, 0, 1, 2],\n",
              "       [2, 1, 2, 3],\n",
              "       [3, 0, 2, 1],\n",
              "       [0, 2, 0, 3]])"
            ]
          },
          "metadata": {
            "tags": []
          },
          "execution_count": 9
        }
      ]
    },
    {
      "cell_type": "code",
      "metadata": {
        "id": "fZJJ2YzL-GRg"
      },
      "source": [
        "m=np.matmul(v,v1)"
      ],
      "execution_count": null,
      "outputs": []
    },
    {
      "cell_type": "code",
      "metadata": {
        "colab": {
          "base_uri": "https://localhost:8080/"
        },
        "id": "z8qIZLI2-LY6",
        "outputId": "199a2871-424c-47f7-ee6d-132c832932d0"
      },
      "source": [
        "m"
      ],
      "execution_count": null,
      "outputs": [
        {
          "output_type": "execute_result",
          "data": {
            "text/plain": [
              "array([[19, 14, 18, 19],\n",
              "       [14, 36, 25, 34],\n",
              "       [18, 25, 29, 27],\n",
              "       [19, 34, 27, 44]])"
            ]
          },
          "metadata": {
            "tags": []
          },
          "execution_count": 11
        }
      ]
    },
    {
      "cell_type": "code",
      "metadata": {
        "colab": {
          "base_uri": "https://localhost:8080/",
          "height": 282
        },
        "id": "KdTFPby7-MGO",
        "outputId": "5f42ff2c-df24-4c13-e9ce-fd8037ffa7e7"
      },
      "source": [
        "import seaborn as sns\n",
        "# Draw the heatmap with the mask and correct aspect ratio\n",
        "sns.heatmap(m,\n",
        "            square=True, linewidths=.5, cbar_kws={\"shrink\": .5})"
      ],
      "execution_count": null,
      "outputs": [
        {
          "output_type": "execute_result",
          "data": {
            "text/plain": [
              "<matplotlib.axes._subplots.AxesSubplot at 0x7f98e16f7ba8>"
            ]
          },
          "metadata": {
            "tags": []
          },
          "execution_count": 12
        },
        {
          "output_type": "display_data",
          "data": {
            "image/png": "[encoded data removed]",
            "text/plain": [
              "<Figure size 432x288 with 2 Axes>"
            ]
          },
          "metadata": {
            "tags": [],
            "needs_background": "light"
          }
        }
      ]
    },
    {
      "cell_type": "code",
      "metadata": {
        "id": "TqFHjr7H-lOK"
      },
      "source": [
        " r = np.corrcoef(v, v)"
      ],
      "execution_count": null,
      "outputs": []
    },
    {
      "cell_type": "code",
      "metadata": {
        "colab": {
          "base_uri": "https://localhost:8080/"
        },
        "id": "DxRmjlbiAhGB",
        "outputId": "2ad18df2-bcc3-484a-faa3-222700d13e25"
      },
      "source": [
        "r"
      ],
      "execution_count": null,
      "outputs": [
        {
          "output_type": "execute_result",
          "data": {
            "text/plain": [
              "array([[ 1.        , -0.17322276,  0.40370517, -0.22428065,  1.        ,\n",
              "        -0.17322276,  0.40370517, -0.22428065],\n",
              "       [-0.17322276,  1.        ,  0.23643312,  0.3940552 , -0.17322276,\n",
              "         1.        ,  0.23643312,  0.3940552 ],\n",
              "       [ 0.40370517,  0.23643312,  1.        , -0.42857143,  0.40370517,\n",
              "         0.23643312,  1.        , -0.42857143],\n",
              "       [-0.22428065,  0.3940552 , -0.42857143,  1.        , -0.22428065,\n",
              "         0.3940552 , -0.42857143,  1.        ],\n",
              "       [ 1.        , -0.17322276,  0.40370517, -0.22428065,  1.        ,\n",
              "        -0.17322276,  0.40370517, -0.22428065],\n",
              "       [-0.17322276,  1.        ,  0.23643312,  0.3940552 , -0.17322276,\n",
              "         1.        ,  0.23643312,  0.3940552 ],\n",
              "       [ 0.40370517,  0.23643312,  1.        , -0.42857143,  0.40370517,\n",
              "         0.23643312,  1.        , -0.42857143],\n",
              "       [-0.22428065,  0.3940552 , -0.42857143,  1.        , -0.22428065,\n",
              "         0.3940552 , -0.42857143,  1.        ]])"
            ]
          },
          "metadata": {
            "tags": []
          },
          "execution_count": 15
        }
      ]
    },
    {
      "cell_type": "code",
      "metadata": {
        "colab": {
          "base_uri": "https://localhost:8080/",
          "height": 282
        },
        "id": "bFI9WZxWAoBW",
        "outputId": "bdd4b026-1d89-4991-a485-4877070a3c39"
      },
      "source": [
        "sns.heatmap(r,\n",
        "            square=True, linewidths=.5, cbar_kws={\"shrink\": .5})"
      ],
      "execution_count": null,
      "outputs": [
        {
          "output_type": "execute_result",
          "data": {
            "text/plain": [
              "<matplotlib.axes._subplots.AxesSubplot at 0x7f98d8e074a8>"
            ]
          },
          "metadata": {
            "tags": []
          },
          "execution_count": 16
        },
        {
          "output_type": "display_data",
          "data": {
            "image/png": "[encoded data removed]",
            "text/plain": [
              "<Figure size 432x288 with 2 Axes>"
            ]
          },
          "metadata": {
            "tags": [],
            "needs_background": "light"
          }
        }
      ]
    },
    {
      "cell_type": "code",
      "metadata": {
        "id": "D3uh7KHzAtij",
        "colab": {
          "base_uri": "https://localhost:8080/",
          "height": 316
        },
        "outputId": "d308a947-bb75-4ad4-f8b3-27f4a6f1821f"
      },
      "source": [
        "import os\n",
        "import torchvision\n",
        "from torchvision import datasets\n",
        "imagenet_data = torchvision.datasets.ImageNet('dog_images/train',download=True)"
      ],
      "execution_count": null,
      "outputs": [
        {
          "output_type": "error",
          "ename": "RuntimeError",
          "evalue": "ignored",
          "traceback": [
            "\u001b[0;31m---------------------------------------------------------------------------\u001b[0m",
            "\u001b[0;31mRuntimeError\u001b[0m                              Traceback (most recent call last)",
            "\u001b[0;32m<ipython-input-3-9c7099cbe158>\u001b[0m in \u001b[0;36m<module>\u001b[0;34m()\u001b[0m\n\u001b[1;32m      2\u001b[0m \u001b[0;32mimport\u001b[0m \u001b[0mtorchvision\u001b[0m\u001b[0;34m\u001b[0m\u001b[0;34m\u001b[0m\u001b[0m\n\u001b[1;32m      3\u001b[0m \u001b[0;32mfrom\u001b[0m \u001b[0mtorchvision\u001b[0m \u001b[0;32mimport\u001b[0m \u001b[0mdatasets\u001b[0m\u001b[0;34m\u001b[0m\u001b[0;34m\u001b[0m\u001b[0m\n\u001b[0;32m----> 4\u001b[0;31m \u001b[0mimagenet_data\u001b[0m \u001b[0;34m=\u001b[0m \u001b[0mtorchvision\u001b[0m\u001b[0;34m.\u001b[0m\u001b[0mdatasets\u001b[0m\u001b[0;34m.\u001b[0m\u001b[0mImageNet\u001b[0m\u001b[0;34m(\u001b[0m\u001b[0;34m'dog_images/train'\u001b[0m\u001b[0;34m,\u001b[0m\u001b[0mdownload\u001b[0m\u001b[0;34m=\u001b[0m\u001b[0;32mTrue\u001b[0m\u001b[0;34m)\u001b[0m\u001b[0;34m\u001b[0m\u001b[0;34m\u001b[0m\u001b[0m\n\u001b[0m",
            "\u001b[0;32m/usr/local/lib/python3.7/dist-packages/torchvision/datasets/imagenet.py\u001b[0m in \u001b[0;36m__init__\u001b[0;34m(self, root, split, download, **kwargs)\u001b[0m\n\u001b[1;32m     44\u001b[0m                    \u001b[0;34m\"download the archives externally and place them in the root \"\u001b[0m\u001b[0;34m\u001b[0m\u001b[0;34m\u001b[0m\u001b[0m\n\u001b[1;32m     45\u001b[0m                    \"directory.\")\n\u001b[0;32m---> 46\u001b[0;31m             \u001b[0;32mraise\u001b[0m \u001b[0mRuntimeError\u001b[0m\u001b[0;34m(\u001b[0m\u001b[0mmsg\u001b[0m\u001b[0;34m)\u001b[0m\u001b[0;34m\u001b[0m\u001b[0;34m\u001b[0m\u001b[0m\n\u001b[0m\u001b[1;32m     47\u001b[0m         \u001b[0;32melif\u001b[0m \u001b[0mdownload\u001b[0m \u001b[0;32mis\u001b[0m \u001b[0;32mFalse\u001b[0m\u001b[0;34m:\u001b[0m\u001b[0;34m\u001b[0m\u001b[0;34m\u001b[0m\u001b[0m\n\u001b[1;32m     48\u001b[0m             msg = (\"The use of the download flag is deprecated, since the dataset \"\n",
            "\u001b[0;31mRuntimeError\u001b[0m: The dataset is no longer publicly accessible. You need to download the archives externally and place them in the root directory."
          ]
        }
      ]
    },
    {
      "cell_type": "code",
      "metadata": {
        "colab": {
          "base_uri": "https://localhost:8080/",
          "height": 35
        },
        "id": "7TURVQnCxtbJ",
        "outputId": "412ce9a8-a58e-406b-f601-8acce99f3e30"
      },
      "source": [
        "torchvision.__version__"
      ],
      "execution_count": null,
      "outputs": [
        {
          "output_type": "execute_result",
          "data": {
            "application/vnd.google.colaboratory.intrinsic+json": {
              "type": "string"
            },
            "text/plain": [
              "'0.9.0+cu101'"
            ]
          },
          "metadata": {
            "tags": []
          },
          "execution_count": 4
        }
      ]
    },
    {
      "cell_type": "code",
      "metadata": {
        "id": "eEp_MIjSymhj"
      },
      "source": [
        "import torch \n",
        "import torch.nn as nn\n",
        "import torchvision\n",
        "import torchvision.transforms as transforms\n",
        "import numpy as np\n",
        "from torch.utils.data import TensorDataset\n",
        "\n",
        "# Device configuration\n",
        "device = torch.device('cuda:0' if torch.cuda.is_available() else 'cpu')\n",
        "device = 'cpu'"
      ],
      "execution_count": 5,
      "outputs": []
    },
    {
      "cell_type": "code",
      "metadata": {
        "id": "eHS_HP3AVGsy"
      },
      "source": [
        "# Hyper parameters\n",
        "num_epochs = 1\n",
        "num_classes = 10\n",
        "batch_size = 1\n",
        "learning_rate = 0.001\n",
        "\n",
        "# MNIST dataset\n",
        "train_data = np.random.normal(size=(1, 1, 28, 28))\n",
        "train_labels= np.random.normal(size=(1))\n",
        "train_labels[train_labels>0.5]=1\n",
        "train_labels[train_labels<=0.5]=0\n",
        "train_data = torch.Tensor(train_data)\n",
        "train_labels = torch.Tensor(train_labels)\n",
        "train_labels = train_labels.type(torch.LongTensor)\n",
        "train_dataset = TensorDataset( train_data, train_labels)\n",
        "test_dataset = TensorDataset( train_data, train_labels)\n",
        "\n",
        "# Data loader\n",
        "\n",
        "train_loader = torch.utils.data.DataLoader(dataset=train_dataset,\n",
        "\n",
        "                                           batch_size=batch_size, \n",
        "\n",
        "                                           shuffle=True)\n",
        "test_loader = torch.utils.data.DataLoader(dataset=test_dataset,\n",
        "\n",
        "                                          batch_size=batch_size, \n",
        "\n",
        "                                          shuffle=False)"
      ],
      "execution_count": 2,
      "outputs": []
    },
    {
      "cell_type": "code",
      "metadata": {
        "id": "4FfGvNDgVNB3"
      },
      "source": [
        "class ConvNet(nn.Module):\n",
        "\n",
        "    def __init__(self, num_classes=10):\n",
        "        super(ConvNet, self).__init__()\n",
        "        self.conv = nn.Conv2d(1, 16, kernel_size=5, stride=1, padding=2)\n",
        "        self.batch = nn.BatchNorm2d(16)\n",
        "        self.relu = nn.ReLU()\n",
        "        self.max=nn.MaxPool2d(kernel_size=2, stride=2)\n",
        "        self.fc = nn.Linear(16*14*14, num_classes)\n",
        "     \n",
        "\n",
        "    def forward(self, x):\n",
        "        print(1,x.shape)\n",
        "        out = self.conv(x)\n",
        "        print(2,out.shape,(28-5+2*2)/1+1)\n",
        "        out = self.batch(out)\n",
        "        print(3,out.shape)\n",
        "        out = self.relu(out)\n",
        "        print(4,out.shape)\n",
        "        out = self.max(out)\n",
        "        print(5,out.shape)\n",
        "        #out = self.layer2(out)\n",
        "        out = out.reshape(out.size(0), -1)\n",
        "        print(6,out.shape)\n",
        "        out = self.fc(out)\n",
        "        print(7,out.shape)\n",
        "        return out\n",
        "\n",
        "\n",
        "\n",
        "model = ConvNet(num_classes).to(device)"
      ],
      "execution_count": 3,
      "outputs": []
    },
    {
      "cell_type": "code",
      "metadata": {
        "colab": {
          "base_uri": "https://localhost:8080/"
        },
        "id": "dtvjw4-qVQ29",
        "outputId": "8610fd20-1934-4b66-97e6-33beff863d6c"
      },
      "source": [
        "model"
      ],
      "execution_count": 4,
      "outputs": [
        {
          "output_type": "execute_result",
          "data": {
            "text/plain": [
              "ConvNet(\n",
              "  (conv): Conv2d(1, 16, kernel_size=(5, 5), stride=(1, 1), padding=(2, 2))\n",
              "  (batch): BatchNorm2d(16, eps=1e-05, momentum=0.1, affine=True, track_running_stats=True)\n",
              "  (relu): ReLU()\n",
              "  (max): MaxPool2d(kernel_size=2, stride=2, padding=0, dilation=1, ceil_mode=False)\n",
              "  (fc): Linear(in_features=3136, out_features=10, bias=True)\n",
              ")"
            ]
          },
          "metadata": {
            "tags": []
          },
          "execution_count": 4
        }
      ]
    },
    {
      "cell_type": "code",
      "metadata": {
        "colab": {
          "base_uri": "https://localhost:8080/"
        },
        "id": "gi7x6DZaVSnQ",
        "outputId": "7082abe5-eca4-4b5c-a0f4-dda947241765"
      },
      "source": [
        "images = train_loader.dataset.tensors[0]\n",
        "with torch.no_grad():\n",
        "  out = model(images)"
      ],
      "execution_count": 7,
      "outputs": [
        {
          "output_type": "stream",
          "text": [
            "1 torch.Size([1, 1, 28, 28])\n",
            "2 torch.Size([1, 16, 28, 28]) 28.0\n",
            "3 torch.Size([1, 16, 28, 28])\n",
            "4 torch.Size([1, 16, 28, 28])\n",
            "5 torch.Size([1, 16, 14, 14])\n",
            "6 torch.Size([1, 3136])\n",
            "7 torch.Size([1, 10])\n"
          ],
          "name": "stdout"
        }
      ]
    },
    {
      "cell_type": "code",
      "metadata": {
        "id": "k6O6P_i8VwLp"
      },
      "source": [
        ""
      ],
      "execution_count": null,
      "outputs": []
    }
  ]
}